{
 "cells": [
  {
   "cell_type": "code",
   "execution_count": 19,
   "metadata": {},
   "outputs": [],
   "source": [
    "# Load libs\n",
    "\n",
    "library(dplyr)\n",
    "library(ggplot2)\n",
    "library(ggthemes)\n",
    "library(tidyr)\n",
    "library(forecast)"
   ]
  },
  {
   "cell_type": "code",
   "execution_count": 2,
   "metadata": {},
   "outputs": [
    {
     "data": {
      "text/html": [
       "<table>\n",
       "<thead><tr><th></th><th scope=col>date</th><th scope=col>Total.Accounts</th><th scope=col>Accounts.dv</th><th scope=col>Accounts.TV</th><th scope=col>Accounts.TV.mobile</th><th scope=col>Accounts.TV.dktp</th><th scope=col>Accounts.mobile</th><th scope=col>Accounts.excl.dv</th></tr></thead>\n",
       "<tbody>\n",
       "\t<tr><th scope=row>49</th><td>2018-01-01</td><td>186448    </td><td>6484      </td><td> 9478     </td><td> 4739     </td><td> 4739     </td><td> 53775    </td><td>179964    </td></tr>\n",
       "\t<tr><th scope=row>50</th><td>2018-02-01</td><td>170474    </td><td>6350      </td><td> 8405     </td><td> 4203     </td><td> 4203     </td><td> 48299    </td><td>164124    </td></tr>\n",
       "\t<tr><th scope=row>51</th><td>2018-03-01</td><td>213383    </td><td>7670      </td><td> 9388     </td><td> 4694     </td><td> 4694     </td><td> 53933    </td><td>205713    </td></tr>\n",
       "\t<tr><th scope=row>52</th><td>2018-04-01</td><td>232126    </td><td>6270      </td><td>30526     </td><td>15263     </td><td>15263     </td><td> 60097    </td><td>225856    </td></tr>\n",
       "\t<tr><th scope=row>53</th><td>2018-05-01</td><td>325234    </td><td>7740      </td><td>41364     </td><td>20682     </td><td>20682     </td><td> 96464    </td><td>317494    </td></tr>\n",
       "\t<tr><th scope=row>54</th><td>2018-06-01</td><td>369861    </td><td>7867      </td><td>32436     </td><td>16218     </td><td>16218     </td><td>117210    </td><td>361994    </td></tr>\n",
       "</tbody>\n",
       "</table>\n"
      ],
      "text/latex": [
       "\\begin{tabular}{r|llllllll}\n",
       "  & date & Total.Accounts & Accounts.dv & Accounts.TV & Accounts.TV.mobile & Accounts.TV.dktp & Accounts.mobile & Accounts.excl.dv\\\\\n",
       "\\hline\n",
       "\t49 & 2018-01-01 & 186448     & 6484       &  9478      &  4739      &  4739      &  53775     & 179964    \\\\\n",
       "\t50 & 2018-02-01 & 170474     & 6350       &  8405      &  4203      &  4203      &  48299     & 164124    \\\\\n",
       "\t51 & 2018-03-01 & 213383     & 7670       &  9388      &  4694      &  4694      &  53933     & 205713    \\\\\n",
       "\t52 & 2018-04-01 & 232126     & 6270       & 30526      & 15263      & 15263      &  60097     & 225856    \\\\\n",
       "\t53 & 2018-05-01 & 325234     & 7740       & 41364      & 20682      & 20682      &  96464     & 317494    \\\\\n",
       "\t54 & 2018-06-01 & 369861     & 7867       & 32436      & 16218      & 16218      & 117210     & 361994    \\\\\n",
       "\\end{tabular}\n"
      ],
      "text/markdown": [
       "\n",
       "| <!--/--> | date | Total.Accounts | Accounts.dv | Accounts.TV | Accounts.TV.mobile | Accounts.TV.dktp | Accounts.mobile | Accounts.excl.dv | \n",
       "|---|---|---|---|---|---|\n",
       "| 49 | 2018-01-01 | 186448     | 6484       |  9478      |  4739      |  4739      |  53775     | 179964     | \n",
       "| 50 | 2018-02-01 | 170474     | 6350       |  8405      |  4203      |  4203      |  48299     | 164124     | \n",
       "| 51 | 2018-03-01 | 213383     | 7670       |  9388      |  4694      |  4694      |  53933     | 205713     | \n",
       "| 52 | 2018-04-01 | 232126     | 6270       | 30526      | 15263      | 15263      |  60097     | 225856     | \n",
       "| 53 | 2018-05-01 | 325234     | 7740       | 41364      | 20682      | 20682      |  96464     | 317494     | \n",
       "| 54 | 2018-06-01 | 369861     | 7867       | 32436      | 16218      | 16218      | 117210     | 361994     | \n",
       "\n",
       "\n"
      ],
      "text/plain": [
       "   date       Total.Accounts Accounts.dv Accounts.TV Accounts.TV.mobile\n",
       "49 2018-01-01 186448         6484         9478        4739             \n",
       "50 2018-02-01 170474         6350         8405        4203             \n",
       "51 2018-03-01 213383         7670         9388        4694             \n",
       "52 2018-04-01 232126         6270        30526       15263             \n",
       "53 2018-05-01 325234         7740        41364       20682             \n",
       "54 2018-06-01 369861         7867        32436       16218             \n",
       "   Accounts.TV.dktp Accounts.mobile Accounts.excl.dv\n",
       "49  4739             53775          179964          \n",
       "50  4203             48299          164124          \n",
       "51  4694             53933          205713          \n",
       "52 15263             60097          225856          \n",
       "53 20682             96464          317494          \n",
       "54 16218            117210          361994          "
      ]
     },
     "metadata": {},
     "output_type": "display_data"
    }
   ],
   "source": [
    "# Load monthly accounts data from beginning of time\n",
    "\n",
    "df<-read.csv(file = 'Accounts Forecasting Monthly Input.csv')\n",
    "df$date<-as.Date(df$date)\n",
    "\n",
    "df%>%tail()"
   ]
  },
  {
   "cell_type": "code",
   "execution_count": 3,
   "metadata": {},
   "outputs": [
    {
     "data": {},
     "metadata": {},
     "output_type": "display_data"
    },
    {
     "data": {
      "image/png": "[encoded data removed]",
      "text/plain": [
       "plot without title"
      ]
     },
     "metadata": {},
     "output_type": "display_data"
    }
   ],
   "source": [
    "# Time series decomp using accounts\n",
    "\n",
    "accounts_ts<-ts(data = df$Accounts.excl.dv,frequency = 12)\n",
    "autoplot(stl(x = accounts_ts,s.window = 'periodic'))"
   ]
  },
  {
   "cell_type": "code",
   "execution_count": 4,
   "metadata": {},
   "outputs": [
    {
     "data": {},
     "metadata": {},
     "output_type": "display_data"
    },
    {
     "data": {
      "image/png": "[encoded data removed]",
      "text/plain": [
       "plot without title"
      ]
     },
     "metadata": {},
     "output_type": "display_data"
    }
   ],
   "source": [
    "# Plot Accounts trend\n",
    "\n",
    "options(repr.plot.height=3,repr.plot.width=6)\n",
    "autoplot(accounts_ts)"
   ]
  },
  {
   "cell_type": "code",
   "execution_count": 5,
   "metadata": {},
   "outputs": [
    {
     "data": {},
     "metadata": {},
     "output_type": "display_data"
    },
    {
     "data": {
      "image/png": "[encoded data removed]",
      "text/plain": [
       "plot without title"
      ]
     },
     "metadata": {},
     "output_type": "display_data"
    }
   ],
   "source": [
    "# Detect seasonality\n",
    "\n",
    "forecast::ggseasonplot(accounts_ts)"
   ]
  },
  {
   "cell_type": "code",
   "execution_count": 6,
   "metadata": {},
   "outputs": [
    {
     "name": "stdout",
     "output_type": "stream",
     "text": [
      "\n",
      "\tLjung-Box test\n",
      "\n",
      "data:  Residuals from ARIMA(0,1,0)(0,1,0)[12]\n",
      "Q* = 15.443, df = 10.8, p-value = 0.1531\n",
      "\n",
      "Model df: 0.   Total lags used: 10.8\n",
      "\n",
      "Series: accounts_ts \n",
      "ARIMA(0,1,0)(0,1,0)[12] \n",
      "\n",
      "sigma^2 estimated as 3.13e+08:  log likelihood=-459.19\n",
      "AIC=920.38   AICc=920.48   BIC=922.09\n",
      "\n",
      "Training set error measures:\n",
      "                   ME     RMSE     MAE      MPE    MAPE      MASE       ACF1\n",
      "Training set 2672.017 15414.93 9288.09 1.158842 8.20429 0.1748685 0.06815215\n"
     ]
    },
    {
     "data": {
      "text/html": [
       "<ol class=list-inline>\n",
       "\t<li>0</li>\n",
       "\t<li>0</li>\n",
       "\t<li>0</li>\n",
       "\t<li>0</li>\n",
       "\t<li>12</li>\n",
       "\t<li>1</li>\n",
       "\t<li>1</li>\n",
       "</ol>\n"
      ],
      "text/latex": [
       "\\begin{enumerate*}\n",
       "\\item 0\n",
       "\\item 0\n",
       "\\item 0\n",
       "\\item 0\n",
       "\\item 12\n",
       "\\item 1\n",
       "\\item 1\n",
       "\\end{enumerate*}\n"
      ],
      "text/markdown": [
       "1. 0\n",
       "2. 0\n",
       "3. 0\n",
       "4. 0\n",
       "5. 12\n",
       "6. 1\n",
       "7. 1\n",
       "\n",
       "\n"
      ],
      "text/plain": [
       "[1]  0  0  0  0 12  1  1"
      ]
     },
     "metadata": {},
     "output_type": "display_data"
    },
    {
     "data": {
      "image/png": "[encoded data removed]",
      "text/plain": [
       "plot without title"
      ]
     },
     "metadata": {},
     "output_type": "display_data"
    }
   ],
   "source": [
    "# ARIMA of accounts ts\n",
    "\n",
    "arima<-auto.arima(accounts_ts)\n",
    "\n",
    "checkresiduals(arima)\n",
    "summary(arima)\n",
    "\n",
    "options(repr.plot.height=5,repr.plot.width=8)\n",
    "arima$arma"
   ]
  },
  {
   "cell_type": "code",
   "execution_count": 7,
   "metadata": {},
   "outputs": [
    {
     "data": {
      "text/html": [
       "<table>\n",
       "<thead><tr><th scope=col>date</th><th scope=col>Total.Accounts</th><th scope=col>Accounts.dv</th><th scope=col>Accounts.TV</th><th scope=col>Accounts.TV.mobile</th><th scope=col>Accounts.TV.dktp</th><th scope=col>Accounts.mobile</th><th scope=col>Accounts.excl.dv</th><th scope=col>fitted_accounts</th></tr></thead>\n",
       "<tbody>\n",
       "\t<tr><td>2014-01-01</td><td>19173     </td><td>NA        </td><td>NA        </td><td>NA        </td><td>NA        </td><td>NA        </td><td>19173     </td><td>19161.93  </td></tr>\n",
       "\t<tr><td>2014-02-01</td><td>15864     </td><td>NA        </td><td>NA        </td><td>NA        </td><td>NA        </td><td>NA        </td><td>15864     </td><td>15861.61  </td></tr>\n",
       "\t<tr><td>2014-03-01</td><td>22114     </td><td>NA        </td><td>NA        </td><td>NA        </td><td>NA        </td><td>NA        </td><td>22114     </td><td>22107.15  </td></tr>\n",
       "\t<tr><td>2014-04-01</td><td>23770     </td><td>NA        </td><td>NA        </td><td>NA        </td><td>NA        </td><td>NA        </td><td>23770     </td><td>23763.44  </td></tr>\n",
       "\t<tr><td>2014-05-01</td><td>40357     </td><td>NA        </td><td>NA        </td><td>NA        </td><td>NA        </td><td>NA        </td><td>40357     </td><td>40336.76  </td></tr>\n",
       "\t<tr><td>2014-06-01</td><td>29759     </td><td>NA        </td><td>NA        </td><td>NA        </td><td>NA        </td><td>NA        </td><td>29759     </td><td>29751.91  </td></tr>\n",
       "</tbody>\n",
       "</table>\n"
      ],
      "text/latex": [
       "\\begin{tabular}{r|lllllllll}\n",
       " date & Total.Accounts & Accounts.dv & Accounts.TV & Accounts.TV.mobile & Accounts.TV.dktp & Accounts.mobile & Accounts.excl.dv & fitted\\_accounts\\\\\n",
       "\\hline\n",
       "\t 2014-01-01 & 19173      & NA         & NA         & NA         & NA         & NA         & 19173      & 19161.93  \\\\\n",
       "\t 2014-02-01 & 15864      & NA         & NA         & NA         & NA         & NA         & 15864      & 15861.61  \\\\\n",
       "\t 2014-03-01 & 22114      & NA         & NA         & NA         & NA         & NA         & 22114      & 22107.15  \\\\\n",
       "\t 2014-04-01 & 23770      & NA         & NA         & NA         & NA         & NA         & 23770      & 23763.44  \\\\\n",
       "\t 2014-05-01 & 40357      & NA         & NA         & NA         & NA         & NA         & 40357      & 40336.76  \\\\\n",
       "\t 2014-06-01 & 29759      & NA         & NA         & NA         & NA         & NA         & 29759      & 29751.91  \\\\\n",
       "\\end{tabular}\n"
      ],
      "text/markdown": [
       "\n",
       "date | Total.Accounts | Accounts.dv | Accounts.TV | Accounts.TV.mobile | Accounts.TV.dktp | Accounts.mobile | Accounts.excl.dv | fitted_accounts | \n",
       "|---|---|---|---|---|---|\n",
       "| 2014-01-01 | 19173      | NA         | NA         | NA         | NA         | NA         | 19173      | 19161.93   | \n",
       "| 2014-02-01 | 15864      | NA         | NA         | NA         | NA         | NA         | 15864      | 15861.61   | \n",
       "| 2014-03-01 | 22114      | NA         | NA         | NA         | NA         | NA         | 22114      | 22107.15   | \n",
       "| 2014-04-01 | 23770      | NA         | NA         | NA         | NA         | NA         | 23770      | 23763.44   | \n",
       "| 2014-05-01 | 40357      | NA         | NA         | NA         | NA         | NA         | 40357      | 40336.76   | \n",
       "| 2014-06-01 | 29759      | NA         | NA         | NA         | NA         | NA         | 29759      | 29751.91   | \n",
       "\n",
       "\n"
      ],
      "text/plain": [
       "  date       Total.Accounts Accounts.dv Accounts.TV Accounts.TV.mobile\n",
       "1 2014-01-01 19173          NA          NA          NA                \n",
       "2 2014-02-01 15864          NA          NA          NA                \n",
       "3 2014-03-01 22114          NA          NA          NA                \n",
       "4 2014-04-01 23770          NA          NA          NA                \n",
       "5 2014-05-01 40357          NA          NA          NA                \n",
       "6 2014-06-01 29759          NA          NA          NA                \n",
       "  Accounts.TV.dktp Accounts.mobile Accounts.excl.dv fitted_accounts\n",
       "1 NA               NA              19173            19161.93       \n",
       "2 NA               NA              15864            15861.61       \n",
       "3 NA               NA              22114            22107.15       \n",
       "4 NA               NA              23770            23763.44       \n",
       "5 NA               NA              40357            40336.76       \n",
       "6 NA               NA              29759            29751.91       "
      ]
     },
     "metadata": {},
     "output_type": "display_data"
    },
    {
     "data": {},
     "metadata": {},
     "output_type": "display_data"
    },
    {
     "data": {
      "image/png": "[encoded data removed]",
      "text/plain": [
       "plot without title"
      ]
     },
     "metadata": {},
     "output_type": "display_data"
    }
   ],
   "source": [
    "# Examine ARIMA model fit\n",
    "\n",
    "options(repr.plot.height=3,repr.plot.width=7)\n",
    "options(scipen=5)\n",
    "\n",
    "plt_df<-df\n",
    "plt_df$fitted_accounts = fitted(arima)\n",
    "plt_df%>%head()\n",
    "\n",
    "plt_df%>%ggplot() + geom_line(mapping = aes(x=date,y=Accounts.excl.dv,color='actuals')) + \n",
    "geom_line(mapping = aes(x=date,y=fitted_accounts,color ='fitted')) +\n",
    "scale_color_discrete(name = 'Type')"
   ]
  },
  {
   "cell_type": "code",
   "execution_count": 8,
   "metadata": {},
   "outputs": [
    {
     "data": {
      "text/plain": [
       "      Point Forecast    Lo 80    Hi 80    Lo 95    Hi 95\n",
       "Jul 5         388805 366133.4 411476.6 354131.7 423478.3\n",
       "Aug 5         369104 337041.5 401166.5 320068.6 418139.4\n",
       "Sep 5         319734 280465.6 359002.4 259678.2 379789.8\n",
       "Oct 5         329695 284351.8 375038.2 260348.5 399041.5\n",
       "Nov 5         335835 285139.7 386530.3 258303.3 413366.7\n",
       "Dec 5         313323 257789.1 368856.9 228391.2 398254.8\n",
       "Jan 6         338298 278314.5 398281.5 246561.2 430034.8\n",
       "Feb 6         322458 258333.0 386583.0 224387.2 420528.8\n",
       "Mar 6         364047 296032.1 432061.9 260027.2 468066.8\n",
       "Apr 6         384190 312496.0 455884.0 274543.6 493836.4\n",
       "May 6         475828 400634.7 551021.3 360829.8 590826.2\n",
       "Jun 6         520328 441791.2 598864.8 400216.3 640439.7\n",
       "Jul 6         547139 456452.5 637825.5 408446.0 685832.0\n",
       "Aug 6         527438 426047.4 628828.6 372374.5 682501.5\n",
       "Sep 6         478068 367000.2 589135.8 308204.5 647931.5\n",
       "Oct 6         488029 368062.1 607995.9 304555.4 671502.6\n",
       "Nov 6         494169 365918.9 622419.1 298027.5 690310.5\n",
       "Dec 6         471657 335627.3 607686.7 263617.5 679696.5"
      ]
     },
     "metadata": {},
     "output_type": "display_data"
    },
    {
     "data": {},
     "metadata": {},
     "output_type": "display_data"
    },
    {
     "data": {
      "image/png": "[encoded data removed]",
      "text/plain": [
       "plot without title"
      ]
     },
     "metadata": {},
     "output_type": "display_data"
    }
   ],
   "source": [
    "# Future forecasting using ARIMA model\n",
    "\n",
    "pred<-forecast::forecast(object = arima,h = 18)\n",
    "pred\n",
    "\n",
    "autoplot(pred)"
   ]
  },
  {
   "cell_type": "code",
   "execution_count": 9,
   "metadata": {},
   "outputs": [],
   "source": [
    "#Export prediction data\n",
    "\n",
    "write.csv(pred, file = \"AccountsPredicted.csv\")"
   ]
  },
  {
   "cell_type": "markdown",
   "metadata": {},
   "source": [
    "## With TV as predictor"
   ]
  },
  {
   "cell_type": "code",
   "execution_count": 10,
   "metadata": {},
   "outputs": [
    {
     "data": {
      "text/html": [
       "<table>\n",
       "<thead><tr><th></th><th scope=col>week</th><th scope=col>tv_spend</th><th scope=col>tv_impressions</th><th scope=col>tv_sitter_intent</th><th scope=col>total_accounts</th><th scope=col>total_sitter_intent</th><th scope=col>sitter_intent_perc</th></tr></thead>\n",
       "<tbody>\n",
       "\t<tr><th scope=row>40</th><td>2018-06-04</td><td>322557    </td><td>65124     </td><td>6146      </td><td>92629     </td><td>49042     </td><td>0.5294454 </td></tr>\n",
       "\t<tr><th scope=row>41</th><td>2018-06-11</td><td>277557    </td><td>59766     </td><td>5706      </td><td>92218     </td><td>48011     </td><td>0.5206250 </td></tr>\n",
       "\t<tr><th scope=row>42</th><td>2018-06-18</td><td>180756    </td><td>44004     </td><td>4539      </td><td>82663     </td><td>41966     </td><td>0.5076757 </td></tr>\n",
       "\t<tr><th scope=row>43</th><td>2018-06-25</td><td>     0    </td><td>    0     </td><td>2385      </td><td>77967     </td><td>35093     </td><td>0.4501007 </td></tr>\n",
       "\t<tr><th scope=row>44</th><td>2018-07-02</td><td>     0    </td><td>    0     </td><td>1746      </td><td>75377     </td><td>32274     </td><td>0.4281677 </td></tr>\n",
       "\t<tr><th scope=row>45</th><td>2018-07-09</td><td>323625    </td><td>    0     </td><td>1549      </td><td>46045     </td><td>20218     </td><td>0.4390922 </td></tr>\n",
       "</tbody>\n",
       "</table>\n"
      ],
      "text/latex": [
       "\\begin{tabular}{r|lllllll}\n",
       "  & week & tv\\_spend & tv\\_impressions & tv\\_sitter\\_intent & total\\_accounts & total\\_sitter\\_intent & sitter\\_intent\\_perc\\\\\n",
       "\\hline\n",
       "\t40 & 2018-06-04 & 322557     & 65124      & 6146       & 92629      & 49042      & 0.5294454 \\\\\n",
       "\t41 & 2018-06-11 & 277557     & 59766      & 5706       & 92218      & 48011      & 0.5206250 \\\\\n",
       "\t42 & 2018-06-18 & 180756     & 44004      & 4539       & 82663      & 41966      & 0.5076757 \\\\\n",
       "\t43 & 2018-06-25 &      0     &     0      & 2385       & 77967      & 35093      & 0.4501007 \\\\\n",
       "\t44 & 2018-07-02 &      0     &     0      & 1746       & 75377      & 32274      & 0.4281677 \\\\\n",
       "\t45 & 2018-07-09 & 323625     &     0      & 1549       & 46045      & 20218      & 0.4390922 \\\\\n",
       "\\end{tabular}\n"
      ],
      "text/markdown": [
       "\n",
       "| <!--/--> | week | tv_spend | tv_impressions | tv_sitter_intent | total_accounts | total_sitter_intent | sitter_intent_perc | \n",
       "|---|---|---|---|---|---|\n",
       "| 40 | 2018-06-04 | 322557     | 65124      | 6146       | 92629      | 49042      | 0.5294454  | \n",
       "| 41 | 2018-06-11 | 277557     | 59766      | 5706       | 92218      | 48011      | 0.5206250  | \n",
       "| 42 | 2018-06-18 | 180756     | 44004      | 4539       | 82663      | 41966      | 0.5076757  | \n",
       "| 43 | 2018-06-25 |      0     |     0      | 2385       | 77967      | 35093      | 0.4501007  | \n",
       "| 44 | 2018-07-02 |      0     |     0      | 1746       | 75377      | 32274      | 0.4281677  | \n",
       "| 45 | 2018-07-09 | 323625     |     0      | 1549       | 46045      | 20218      | 0.4390922  | \n",
       "\n",
       "\n"
      ],
      "text/plain": [
       "   week       tv_spend tv_impressions tv_sitter_intent total_accounts\n",
       "40 2018-06-04 322557   65124          6146             92629         \n",
       "41 2018-06-11 277557   59766          5706             92218         \n",
       "42 2018-06-18 180756   44004          4539             82663         \n",
       "43 2018-06-25      0       0          2385             77967         \n",
       "44 2018-07-02      0       0          1746             75377         \n",
       "45 2018-07-09 323625       0          1549             46045         \n",
       "   total_sitter_intent sitter_intent_perc\n",
       "40 49042               0.5294454         \n",
       "41 48011               0.5206250         \n",
       "42 41966               0.5076757         \n",
       "43 35093               0.4501007         \n",
       "44 32274               0.4281677         \n",
       "45 20218               0.4390922         "
      ]
     },
     "metadata": {},
     "output_type": "display_data"
    }
   ],
   "source": [
    "# Load weekly data year-to-date\n",
    "\n",
    "df_wkly<-read.csv(file = 'Accounts Forecasting Weekly Input.csv')\n",
    "df_wkly$week<-as.Date(df_wkly$week)\n",
    "\n",
    "df_wkly%>%tail() #jan-18 starts in row 18"
   ]
  },
  {
   "cell_type": "code",
   "execution_count": 11,
   "metadata": {},
   "outputs": [
    {
     "data": {
      "text/html": [
       "<table>\n",
       "<thead><tr><th scope=col>week</th><th scope=col>tv_spend</th><th scope=col>tv_impressions</th><th scope=col>tv_sitter_intent</th><th scope=col>total_accounts</th><th scope=col>total_sitter_intent</th><th scope=col>sitter_intent_perc</th></tr></thead>\n",
       "<tbody>\n",
       "\t<tr><td>2017-09-04</td><td>     0    </td><td>0         </td><td>197       </td><td>33293     </td><td> 9706     </td><td>0.2915328 </td></tr>\n",
       "\t<tr><td>2017-09-11</td><td>     0    </td><td>0         </td><td>304       </td><td>39652     </td><td>14603     </td><td>0.3682790 </td></tr>\n",
       "\t<tr><td>2017-09-18</td><td>139999    </td><td>0         </td><td>724       </td><td>43590     </td><td>19543     </td><td>0.4483368 </td></tr>\n",
       "\t<tr><td>2017-09-25</td><td>139987    </td><td>0         </td><td>748       </td><td>41000     </td><td>17792     </td><td>0.4339512 </td></tr>\n",
       "\t<tr><td>2017-10-02</td><td>139991    </td><td>0         </td><td>856       </td><td>42430     </td><td>17543     </td><td>0.4134575 </td></tr>\n",
       "\t<tr><td>2017-10-09</td><td>140008    </td><td>0         </td><td>791       </td><td>41430     </td><td>17022     </td><td>0.4108617 </td></tr>\n",
       "</tbody>\n",
       "</table>\n"
      ],
      "text/latex": [
       "\\begin{tabular}{r|lllllll}\n",
       " week & tv\\_spend & tv\\_impressions & tv\\_sitter\\_intent & total\\_accounts & total\\_sitter\\_intent & sitter\\_intent\\_perc\\\\\n",
       "\\hline\n",
       "\t 2017-09-04 &      0     & 0          & 197        & 33293      &  9706      & 0.2915328 \\\\\n",
       "\t 2017-09-11 &      0     & 0          & 304        & 39652      & 14603      & 0.3682790 \\\\\n",
       "\t 2017-09-18 & 139999     & 0          & 724        & 43590      & 19543      & 0.4483368 \\\\\n",
       "\t 2017-09-25 & 139987     & 0          & 748        & 41000      & 17792      & 0.4339512 \\\\\n",
       "\t 2017-10-02 & 139991     & 0          & 856        & 42430      & 17543      & 0.4134575 \\\\\n",
       "\t 2017-10-09 & 140008     & 0          & 791        & 41430      & 17022      & 0.4108617 \\\\\n",
       "\\end{tabular}\n"
      ],
      "text/markdown": [
       "\n",
       "week | tv_spend | tv_impressions | tv_sitter_intent | total_accounts | total_sitter_intent | sitter_intent_perc | \n",
       "|---|---|---|---|---|---|\n",
       "| 2017-09-04 |      0     | 0          | 197        | 33293      |  9706      | 0.2915328  | \n",
       "| 2017-09-11 |      0     | 0          | 304        | 39652      | 14603      | 0.3682790  | \n",
       "| 2017-09-18 | 139999     | 0          | 724        | 43590      | 19543      | 0.4483368  | \n",
       "| 2017-09-25 | 139987     | 0          | 748        | 41000      | 17792      | 0.4339512  | \n",
       "| 2017-10-02 | 139991     | 0          | 856        | 42430      | 17543      | 0.4134575  | \n",
       "| 2017-10-09 | 140008     | 0          | 791        | 41430      | 17022      | 0.4108617  | \n",
       "\n",
       "\n"
      ],
      "text/plain": [
       "  week       tv_spend tv_impressions tv_sitter_intent total_accounts\n",
       "1 2017-09-04      0   0              197              33293         \n",
       "2 2017-09-11      0   0              304              39652         \n",
       "3 2017-09-18 139999   0              724              43590         \n",
       "4 2017-09-25 139987   0              748              41000         \n",
       "5 2017-10-02 139991   0              856              42430         \n",
       "6 2017-10-09 140008   0              791              41430         \n",
       "  total_sitter_intent sitter_intent_perc\n",
       "1  9706               0.2915328         \n",
       "2 14603               0.3682790         \n",
       "3 19543               0.4483368         \n",
       "4 17792               0.4339512         \n",
       "5 17543               0.4134575         \n",
       "6 17022               0.4108617         "
      ]
     },
     "metadata": {},
     "output_type": "display_data"
    },
    {
     "data": {
      "text/html": [
       "<table>\n",
       "<thead><tr><th></th><th scope=col>week</th><th scope=col>tv_spend</th><th scope=col>tv_impressions</th><th scope=col>tv_sitter_intent</th><th scope=col>total_accounts</th><th scope=col>total_sitter_intent</th><th scope=col>sitter_intent_perc</th></tr></thead>\n",
       "<tbody>\n",
       "\t<tr><th scope=row>39</th><td>2018-05-28</td><td>632472    </td><td>102068    </td><td>7363      </td><td>82908     </td><td>42886     </td><td>0.5172722 </td></tr>\n",
       "\t<tr><th scope=row>40</th><td>2018-06-04</td><td>322557    </td><td> 65124    </td><td>6146      </td><td>92629     </td><td>49042     </td><td>0.5294454 </td></tr>\n",
       "\t<tr><th scope=row>41</th><td>2018-06-11</td><td>277557    </td><td> 59766    </td><td>5706      </td><td>92218     </td><td>48011     </td><td>0.5206250 </td></tr>\n",
       "\t<tr><th scope=row>42</th><td>2018-06-18</td><td>180756    </td><td> 44004    </td><td>4539      </td><td>82663     </td><td>41966     </td><td>0.5076757 </td></tr>\n",
       "\t<tr><th scope=row>43</th><td>2018-06-25</td><td>     0    </td><td>     0    </td><td>2385      </td><td>77967     </td><td>35093     </td><td>0.4501007 </td></tr>\n",
       "\t<tr><th scope=row>44</th><td>2018-07-02</td><td>     0    </td><td>     0    </td><td>1746      </td><td>75377     </td><td>32274     </td><td>0.4281677 </td></tr>\n",
       "</tbody>\n",
       "</table>\n"
      ],
      "text/latex": [
       "\\begin{tabular}{r|lllllll}\n",
       "  & week & tv\\_spend & tv\\_impressions & tv\\_sitter\\_intent & total\\_accounts & total\\_sitter\\_intent & sitter\\_intent\\_perc\\\\\n",
       "\\hline\n",
       "\t39 & 2018-05-28 & 632472     & 102068     & 7363       & 82908      & 42886      & 0.5172722 \\\\\n",
       "\t40 & 2018-06-04 & 322557     &  65124     & 6146       & 92629      & 49042      & 0.5294454 \\\\\n",
       "\t41 & 2018-06-11 & 277557     &  59766     & 5706       & 92218      & 48011      & 0.5206250 \\\\\n",
       "\t42 & 2018-06-18 & 180756     &  44004     & 4539       & 82663      & 41966      & 0.5076757 \\\\\n",
       "\t43 & 2018-06-25 &      0     &      0     & 2385       & 77967      & 35093      & 0.4501007 \\\\\n",
       "\t44 & 2018-07-02 &      0     &      0     & 1746       & 75377      & 32274      & 0.4281677 \\\\\n",
       "\\end{tabular}\n"
      ],
      "text/markdown": [
       "\n",
       "| <!--/--> | week | tv_spend | tv_impressions | tv_sitter_intent | total_accounts | total_sitter_intent | sitter_intent_perc | \n",
       "|---|---|---|---|---|---|\n",
       "| 39 | 2018-05-28 | 632472     | 102068     | 7363       | 82908      | 42886      | 0.5172722  | \n",
       "| 40 | 2018-06-04 | 322557     |  65124     | 6146       | 92629      | 49042      | 0.5294454  | \n",
       "| 41 | 2018-06-11 | 277557     |  59766     | 5706       | 92218      | 48011      | 0.5206250  | \n",
       "| 42 | 2018-06-18 | 180756     |  44004     | 4539       | 82663      | 41966      | 0.5076757  | \n",
       "| 43 | 2018-06-25 |      0     |      0     | 2385       | 77967      | 35093      | 0.4501007  | \n",
       "| 44 | 2018-07-02 |      0     |      0     | 1746       | 75377      | 32274      | 0.4281677  | \n",
       "\n",
       "\n"
      ],
      "text/plain": [
       "   week       tv_spend tv_impressions tv_sitter_intent total_accounts\n",
       "39 2018-05-28 632472   102068         7363             82908         \n",
       "40 2018-06-04 322557    65124         6146             92629         \n",
       "41 2018-06-11 277557    59766         5706             92218         \n",
       "42 2018-06-18 180756    44004         4539             82663         \n",
       "43 2018-06-25      0        0         2385             77967         \n",
       "44 2018-07-02      0        0         1746             75377         \n",
       "   total_sitter_intent sitter_intent_perc\n",
       "39 42886               0.5172722         \n",
       "40 49042               0.5294454         \n",
       "41 48011               0.5206250         \n",
       "42 41966               0.5076757         \n",
       "43 35093               0.4501007         \n",
       "44 32274               0.4281677         "
      ]
     },
     "metadata": {},
     "output_type": "display_data"
    }
   ],
   "source": [
    "df_wkly <- head(df_wkly,44)\n",
    "df_wkly%>%head()\n",
    "df_wkly%>%tail()"
   ]
  },
  {
   "cell_type": "code",
   "execution_count": 12,
   "metadata": {},
   "outputs": [],
   "source": [
    "# Time series decomp using total weekly accounts\n",
    "\n",
    "wkly_accounts_ts<-ts(df_wkly$total_accounts,frequency = 52, start=1)"
   ]
  },
  {
   "cell_type": "code",
   "execution_count": 13,
   "metadata": {},
   "outputs": [
    {
     "data": {},
     "metadata": {},
     "output_type": "display_data"
    },
    {
     "data": {
      "image/png": "[encoded data removed]",
      "text/plain": [
       "plot without title"
      ]
     },
     "metadata": {},
     "output_type": "display_data"
    }
   ],
   "source": [
    "options(repr.plot.height=3,repr.plot.width=6)\n",
    "autoplot(wkly_accounts_ts,ts.scale =T)"
   ]
  },
  {
   "cell_type": "code",
   "execution_count": 14,
   "metadata": {},
   "outputs": [
    {
     "name": "stderr",
     "output_type": "stream",
     "text": [
      "Warning message in value[[3L]](cond):\n",
      "\"The chosen test encountered an error, so no seasonal differencing is selected. Check the time series data.\""
     ]
    },
    {
     "name": "stdout",
     "output_type": "stream",
     "text": [
      "\n",
      "\tLjung-Box test\n",
      "\n",
      "data:  Residuals from ARIMA(0,1,1)(0,0,1)[52] with drift\n",
      "Q* = 9.4291, df = 5.8, p-value = 0.1381\n",
      "\n",
      "Model df: 3.   Total lags used: 8.8\n",
      "\n",
      "Series: wkly_accounts_ts \n",
      "ARIMA(0,1,1)(0,0,1)[52] with drift \n",
      "\n",
      "Coefficients:\n",
      "          ma1      sma1      drift\n",
      "      -0.7102    0.0000  1067.2872\n",
      "s.e.   0.1575  426.4169   556.4773\n",
      "\n",
      "sigma^2 estimated as 150135961:  log likelihood=-464.59\n",
      "AIC=937.18   AICc=938.24   BIC=944.23\n",
      "\n",
      "Training set error measures:\n",
      "                   ME     RMSE      MAE       MPE     MAPE MASE      ACF1\n",
      "Training set 62.22541 11682.78 7292.651 -3.682548 13.11589  NaN 0.2069205\n"
     ]
    },
    {
     "data": {
      "text/html": [
       "<ol class=list-inline>\n",
       "\t<li>0</li>\n",
       "\t<li>1</li>\n",
       "\t<li>0</li>\n",
       "\t<li>1</li>\n",
       "\t<li>52</li>\n",
       "\t<li>1</li>\n",
       "\t<li>0</li>\n",
       "</ol>\n"
      ],
      "text/latex": [
       "\\begin{enumerate*}\n",
       "\\item 0\n",
       "\\item 1\n",
       "\\item 0\n",
       "\\item 1\n",
       "\\item 52\n",
       "\\item 1\n",
       "\\item 0\n",
       "\\end{enumerate*}\n"
      ],
      "text/markdown": [
       "1. 0\n",
       "2. 1\n",
       "3. 0\n",
       "4. 1\n",
       "5. 52\n",
       "6. 1\n",
       "7. 0\n",
       "\n",
       "\n"
      ],
      "text/plain": [
       "[1]  0  1  0  1 52  1  0"
      ]
     },
     "metadata": {},
     "output_type": "display_data"
    },
    {
     "data": {
      "image/png": "[encoded data removed]",
      "text/plain": [
       "plot without title"
      ]
     },
     "metadata": {},
     "output_type": "display_data"
    }
   ],
   "source": [
    "# ARIMA of WEEKLY accounts ts\n",
    "\n",
    "arima_wkly<-auto.arima(wkly_accounts_ts)\n",
    "\n",
    "checkresiduals(arima_wkly)\n",
    "summary(arima_wkly)\n",
    "\n",
    "options(repr.plot.height=5,repr.plot.width=8)\n",
    "arima_wkly$arma"
   ]
  },
  {
   "cell_type": "code",
   "execution_count": 15,
   "metadata": {},
   "outputs": [
    {
     "name": "stderr",
     "output_type": "stream",
     "text": [
      "Warning message in value[[3L]](cond):\n",
      "\"The chosen test encountered an error, so no seasonal differencing is selected. Check the time series data.\""
     ]
    },
    {
     "name": "stdout",
     "output_type": "stream",
     "text": [
      "\n",
      "\tLjung-Box test\n",
      "\n",
      "data:  Residuals from ARIMA(0,1,1)(0,0,1)[52] with drift\n",
      "Q* = 9.4291, df = 5.8, p-value = 0.1381\n",
      "\n",
      "Model df: 3.   Total lags used: 8.8\n",
      "\n",
      "Series: wkly_accounts_ts \n",
      "Regression with ARIMA(0,1,1) errors \n",
      "\n",
      "Coefficients:\n",
      "          ma1    xreg\n",
      "      -0.6000  0.2328\n",
      "s.e.   0.1456  0.1095\n",
      "\n",
      "sigma^2 estimated as 140375693:  log likelihood=-463.55\n",
      "AIC=933.1   AICc=933.72   BIC=938.38\n",
      "\n",
      "Training set error measures:\n",
      "                   ME     RMSE      MAE      MPE     MAPE MASE       ACF1\n",
      "Training set 2237.963 11436.98 6333.436 1.061912 10.91387  NaN 0.05764477\n"
     ]
    },
    {
     "data": {
      "text/html": [
       "<ol class=list-inline>\n",
       "\t<li>0</li>\n",
       "\t<li>1</li>\n",
       "\t<li>0</li>\n",
       "\t<li>0</li>\n",
       "\t<li>52</li>\n",
       "\t<li>1</li>\n",
       "\t<li>0</li>\n",
       "</ol>\n"
      ],
      "text/latex": [
       "\\begin{enumerate*}\n",
       "\\item 0\n",
       "\\item 1\n",
       "\\item 0\n",
       "\\item 0\n",
       "\\item 52\n",
       "\\item 1\n",
       "\\item 0\n",
       "\\end{enumerate*}\n"
      ],
      "text/markdown": [
       "1. 0\n",
       "2. 1\n",
       "3. 0\n",
       "4. 0\n",
       "5. 52\n",
       "6. 1\n",
       "7. 0\n",
       "\n",
       "\n"
      ],
      "text/plain": [
       "[1]  0  1  0  0 52  1  0"
      ]
     },
     "metadata": {},
     "output_type": "display_data"
    },
    {
     "data": {
      "image/png": "[encoded data removed]",
      "text/plain": [
       "plot without title"
      ]
     },
     "metadata": {},
     "output_type": "display_data"
    }
   ],
   "source": [
    "# Include TV impressions as a predictor\n",
    "\n",
    "arima_wkly_xreg<-auto.arima(wkly_accounts_ts,xreg=df_wkly[,3])\n",
    "\n",
    "checkresiduals(arima_wkly)\n",
    "summary(arima_wkly_xreg)\n",
    "\n",
    "options(repr.plot.height=5,repr.plot.width=8)\n",
    "arima_wkly_xreg$arma"
   ]
  },
  {
   "cell_type": "code",
   "execution_count": 16,
   "metadata": {},
   "outputs": [
    {
     "data": {
      "text/html": [
       "<table>\n",
       "<thead><tr><th scope=col>week</th><th scope=col>tv_spend</th><th scope=col>tv_impressions</th><th scope=col>tv_sitter_intent</th><th scope=col>total_accounts</th><th scope=col>total_sitter_intent</th><th scope=col>sitter_intent_perc</th><th scope=col>fitted</th></tr></thead>\n",
       "<tbody>\n",
       "\t<tr><td>2017-09-04</td><td>     0    </td><td>0         </td><td>197       </td><td>33293     </td><td> 9706     </td><td>0.2915328 </td><td>33259.71  </td></tr>\n",
       "\t<tr><td>2017-09-11</td><td>     0    </td><td>0         </td><td>304       </td><td>39652     </td><td>14603     </td><td>0.3682790 </td><td>34199.24  </td></tr>\n",
       "\t<tr><td>2017-09-18</td><td>139999    </td><td>0         </td><td>724       </td><td>43590     </td><td>19543     </td><td>0.4483368 </td><td>37146.56  </td></tr>\n",
       "\t<tr><td>2017-09-25</td><td>139987    </td><td>0         </td><td>748       </td><td>41000     </td><td>17792     </td><td>0.4339512 </td><td>39912.73  </td></tr>\n",
       "\t<tr><td>2017-10-02</td><td>139991    </td><td>0         </td><td>856       </td><td>42430     </td><td>17543     </td><td>0.4134575 </td><td>40368.84  </td></tr>\n",
       "\t<tr><td>2017-10-09</td><td>140008    </td><td>0         </td><td>791       </td><td>41430     </td><td>17022     </td><td>0.4108617 </td><td>41200.41  </td></tr>\n",
       "</tbody>\n",
       "</table>\n"
      ],
      "text/latex": [
       "\\begin{tabular}{r|llllllll}\n",
       " week & tv\\_spend & tv\\_impressions & tv\\_sitter\\_intent & total\\_accounts & total\\_sitter\\_intent & sitter\\_intent\\_perc & fitted\\\\\n",
       "\\hline\n",
       "\t 2017-09-04 &      0     & 0          & 197        & 33293      &  9706      & 0.2915328  & 33259.71  \\\\\n",
       "\t 2017-09-11 &      0     & 0          & 304        & 39652      & 14603      & 0.3682790  & 34199.24  \\\\\n",
       "\t 2017-09-18 & 139999     & 0          & 724        & 43590      & 19543      & 0.4483368  & 37146.56  \\\\\n",
       "\t 2017-09-25 & 139987     & 0          & 748        & 41000      & 17792      & 0.4339512  & 39912.73  \\\\\n",
       "\t 2017-10-02 & 139991     & 0          & 856        & 42430      & 17543      & 0.4134575  & 40368.84  \\\\\n",
       "\t 2017-10-09 & 140008     & 0          & 791        & 41430      & 17022      & 0.4108617  & 41200.41  \\\\\n",
       "\\end{tabular}\n"
      ],
      "text/markdown": [
       "\n",
       "week | tv_spend | tv_impressions | tv_sitter_intent | total_accounts | total_sitter_intent | sitter_intent_perc | fitted | \n",
       "|---|---|---|---|---|---|\n",
       "| 2017-09-04 |      0     | 0          | 197        | 33293      |  9706      | 0.2915328  | 33259.71   | \n",
       "| 2017-09-11 |      0     | 0          | 304        | 39652      | 14603      | 0.3682790  | 34199.24   | \n",
       "| 2017-09-18 | 139999     | 0          | 724        | 43590      | 19543      | 0.4483368  | 37146.56   | \n",
       "| 2017-09-25 | 139987     | 0          | 748        | 41000      | 17792      | 0.4339512  | 39912.73   | \n",
       "| 2017-10-02 | 139991     | 0          | 856        | 42430      | 17543      | 0.4134575  | 40368.84   | \n",
       "| 2017-10-09 | 140008     | 0          | 791        | 41430      | 17022      | 0.4108617  | 41200.41   | \n",
       "\n",
       "\n"
      ],
      "text/plain": [
       "  week       tv_spend tv_impressions tv_sitter_intent total_accounts\n",
       "1 2017-09-04      0   0              197              33293         \n",
       "2 2017-09-11      0   0              304              39652         \n",
       "3 2017-09-18 139999   0              724              43590         \n",
       "4 2017-09-25 139987   0              748              41000         \n",
       "5 2017-10-02 139991   0              856              42430         \n",
       "6 2017-10-09 140008   0              791              41430         \n",
       "  total_sitter_intent sitter_intent_perc fitted  \n",
       "1  9706               0.2915328          33259.71\n",
       "2 14603               0.3682790          34199.24\n",
       "3 19543               0.4483368          37146.56\n",
       "4 17792               0.4339512          39912.73\n",
       "5 17543               0.4134575          40368.84\n",
       "6 17022               0.4108617          41200.41"
      ]
     },
     "metadata": {},
     "output_type": "display_data"
    },
    {
     "data": {},
     "metadata": {},
     "output_type": "display_data"
    },
    {
     "data": {
      "image/png": "[encoded data removed]",
      "text/plain": [
       "plot without title"
      ]
     },
     "metadata": {},
     "output_type": "display_data"
    }
   ],
   "source": [
    "# Examine ARIMA model fit\n",
    "\n",
    "options(repr.plot.height=3,repr.plot.width=7)\n",
    "options(scipen=5)\n",
    "\n",
    "plt_df<-df_wkly\n",
    "plt_df$fitted = fitted(arima_wkly_xreg)\n",
    "plt_df%>%head()\n",
    "\n",
    "plt_df%>%ggplot() + geom_line(mapping = aes(x=week,y=total_accounts,color='actuals')) + \n",
    "geom_line(mapping = aes(x=week,y=fitted,color ='fitted')) +\n",
    "scale_color_discrete(name = 'Type')"
   ]
  },
  {
   "cell_type": "code",
   "execution_count": 17,
   "metadata": {},
   "outputs": [
    {
     "data": {
      "text/plain": [
       "         Point Forecast    Lo 80     Hi 80    Lo 95    Hi 95\n",
       "1.846154        82698.3 67514.45  97882.16 59476.60 105920.0\n",
       "1.865385        82698.3 66344.91  99051.69 57687.95 107708.7\n",
       "1.884615        82698.3 65253.61 100142.99 56018.95 109377.7\n",
       "1.903846        82698.3 64226.67 101169.93 54448.38 110948.2\n",
       "1.923077        82698.3 63253.89 102142.71 52960.64 112436.0\n",
       "1.942308        82698.3 62327.52 103069.09 51543.87 113852.7\n",
       "1.961538        82698.3 61441.47 103955.13 50188.79 115207.8\n",
       "1.980769        82698.3 60590.91 104805.69 48887.97 116508.6\n",
       "2.000000        82698.3 59771.88 105624.72 47635.37 117761.2\n",
       "2.019231        82698.3 58981.12 106415.48 46426.01 118970.6\n",
       "2.038462        82698.3 58215.89 107180.71 45255.69 120140.9\n",
       "2.057692        82698.3 57473.86 107922.74 44120.85 121275.7\n",
       "2.076923        82698.3 56753.05 108643.55 43018.46 122378.1\n",
       "2.096154        82698.3 56051.72 109344.88 41945.88 123450.7"
      ]
     },
     "metadata": {},
     "output_type": "display_data"
    },
    {
     "data": {},
     "metadata": {},
     "output_type": "display_data"
    },
    {
     "data": {
      "image/png": "[encoded data removed]",
      "text/plain": [
       "plot without title"
      ]
     },
     "metadata": {},
     "output_type": "display_data"
    }
   ],
   "source": [
    "# Future forecasting using ARIMA model\n",
    "\n",
    "pred_wkly<-forecast::forecast(object = arima_wkly_xreg,xreg = rep(35000,14)) #h = 18\n",
    "pred_wkly\n",
    "\n",
    "autoplot(pred_wkly) #+theme_dark()"
   ]
  },
  {
   "cell_type": "code",
   "execution_count": 18,
   "metadata": {},
   "outputs": [
    {
     "ename": "ERROR",
     "evalue": "Error in eval(expr, envir, enclos): object 'fcast' not found\n",
     "output_type": "error",
     "traceback": [
      "Error in eval(expr, envir, enclos): object 'fcast' not found\nTraceback:\n"
     ]
    }
   ],
   "source": [
    "plt_df_wkly$forecast = fcast$PointForecast\n",
    "plt_df_wkly%>%head()"
   ]
  }
 ],
 "metadata": {
  "kernelspec": {
   "display_name": "R",
   "language": "R",
   "name": "ir"
  },
  "language_info": {
   "codemirror_mode": "r",
   "file_extension": ".r",
   "mimetype": "text/x-r-source",
   "name": "R",
   "pygments_lexer": "r",
   "version": "3.4.1"
  }
 },
 "nbformat": 4,
 "nbformat_minor": 2
}
